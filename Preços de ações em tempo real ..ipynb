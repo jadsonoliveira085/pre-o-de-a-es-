{
 "cells": [
  {
   "cell_type": "code",
   "execution_count": 1,
   "id": "956ca930",
   "metadata": {},
   "outputs": [],
   "source": [
    "import pandas as pd\n",
    "import yfinance as yf \n",
    "import datetime \n",
    "from datetime import date, timedelta\n",
    "today = date.today()"
   ]
  },
  {
   "cell_type": "code",
   "execution_count": 3,
   "id": "ce4ec057",
   "metadata": {},
   "outputs": [],
   "source": [
    "d1 =  today.strftime(\"%Y-%m-%d\")\n",
    "end_date = d1 \n",
    "d2 = date.today() - timedelta(days=360)\n",
    "d2 = d2.strftime(\"%Y-%m-%d\")\n",
    "start_date = d2"
   ]
  },
  {
   "cell_type": "code",
   "execution_count": 4,
   "id": "fe749b67",
   "metadata": {},
   "outputs": [],
   "source": [
    "data = yf.download('AAPL', start=start_date,end=end_date,progress=False )"
   ]
  },
  {
   "cell_type": "code",
   "execution_count": 5,
   "id": "f5a9e12c",
   "metadata": {},
   "outputs": [
    {
     "name": "stdout",
     "output_type": "stream",
     "text": [
      "                  Open        High         Low       Close   Adj Close  \\\n",
      "Date                                                                     \n",
      "2023-03-24  158.860001  160.339996  157.850006  160.250000  159.399170   \n",
      "2023-03-27  159.940002  160.770004  157.869995  158.279999  157.439636   \n",
      "2023-03-28  157.970001  158.490005  155.979996  157.649994  156.812958   \n",
      "2023-03-29  159.369995  161.050003  159.350006  160.770004  159.916412   \n",
      "2023-03-30  161.529999  162.470001  161.270004  162.360001  161.497986   \n",
      "\n",
      "              Volume  \n",
      "Date                  \n",
      "2023-03-24  59196500  \n",
      "2023-03-27  52390300  \n",
      "2023-03-28  45992200  \n",
      "2023-03-29  51305700  \n",
      "2023-03-30  49501700  \n"
     ]
    }
   ],
   "source": [
    "print(data.head())"
   ]
  },
  {
   "cell_type": "code",
   "execution_count": 7,
   "id": "017560b6",
   "metadata": {},
   "outputs": [
    {
     "name": "stdout",
     "output_type": "stream",
     "text": [
      "        Date        Open        High         Low       Close   Adj Close  \\\n",
      "0 2023-03-24  158.860001  160.339996  157.850006  160.250000  159.399170   \n",
      "1 2023-03-27  159.940002  160.770004  157.869995  158.279999  157.439636   \n",
      "2 2023-03-28  157.970001  158.490005  155.979996  157.649994  156.812958   \n",
      "3 2023-03-29  159.369995  161.050003  159.350006  160.770004  159.916412   \n",
      "4 2023-03-30  161.529999  162.470001  161.270004  162.360001  161.497986   \n",
      "\n",
      "     Volume  \n",
      "0  59196500  \n",
      "1  52390300  \n",
      "2  45992200  \n",
      "3  51305700  \n",
      "4  49501700  \n"
     ]
    }
   ],
   "source": [
    "data[\"Date\"] = data.index\n",
    "data = data[[\"Date\", \"Open\", \"High\", \n",
    "             \"Low\", \"Close\", \"Adj Close\", \"Volume\"]]\n",
    "data.reset_index(drop=True, inplace=True)\n",
    "print(data.head())"
   ]
  },
  {
   "cell_type": "code",
   "execution_count": null,
   "id": "e2ca88e1",
   "metadata": {},
   "outputs": [],
   "source": []
  }
 ],
 "metadata": {
  "kernelspec": {
   "display_name": "Python 3 (ipykernel)",
   "language": "python",
   "name": "python3"
  },
  "language_info": {
   "codemirror_mode": {
    "name": "ipython",
    "version": 3
   },
   "file_extension": ".py",
   "mimetype": "text/x-python",
   "name": "python",
   "nbconvert_exporter": "python",
   "pygments_lexer": "ipython3",
   "version": "3.11.5"
  }
 },
 "nbformat": 4,
 "nbformat_minor": 5
}
